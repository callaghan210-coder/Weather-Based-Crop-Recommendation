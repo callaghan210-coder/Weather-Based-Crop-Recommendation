{
  "nbformat": 4,
  "nbformat_minor": 0,
  "metadata": {
    "colab": {
      "provenance": [],
      "gpuType": "T4",
      "authorship_tag": "ABX9TyOu0BUeSmNyCCcneKQkK6lG",
      "include_colab_link": true
    },
    "kernelspec": {
      "name": "python3",
      "display_name": "Python 3"
    },
    "language_info": {
      "name": "python"
    },
    "accelerator": "GPU"
  },
  "cells": [
    {
      "cell_type": "markdown",
      "metadata": {
        "id": "view-in-github",
        "colab_type": "text"
      },
      "source": [
        "<a href=\"https://colab.research.google.com/github/callaghan210-coder/Weather-Based-Crop-Recommendation/blob/main/Gendata.ipynb\" target=\"_parent\"><img src=\"https://colab.research.google.com/assets/colab-badge.svg\" alt=\"Open In Colab\"/></a>"
      ]
    },
    {
      "cell_type": "code",
      "execution_count": 2,
      "metadata": {
        "colab": {
          "base_uri": "https://localhost:8080/"
        },
        "id": "0wYPkbPhdx4r",
        "outputId": "b348b7fc-b0b1-4fdb-da6f-3703f9914391"
      },
      "outputs": [
        {
          "output_type": "stream",
          "name": "stdout",
          "text": [
            "   Nitrogen (N)  Phosphorus (P)  Potassium (K)        pH  Temperature (C)  \\\n",
            "0     37.454012       58.077904      28.258797  5.128216        32.223827   \n",
            "1     95.071431       52.697165      45.867659  4.882035        17.892836   \n",
            "2     73.199394       35.103695       9.921550  5.051757        11.297742   \n",
            "3     59.865848       49.321266      44.683703  6.393958        32.993601   \n",
            "4     15.601864       36.509664      20.308135  8.038136        20.906520   \n",
            "\n",
            "   Humidity (%)  Rainfall (mm) Crop Type  Predicted Yield (kg/ha)  \\\n",
            "0     47.946607       1.023718  Tomatoes              7443.232456   \n",
            "1     60.569849     101.925123     Maize              6152.341615   \n",
            "2     68.636488     469.572820     Maize              7280.670560   \n",
            "3     89.530518     221.863020     Maize              7799.739199   \n",
            "4     71.722560      61.163179  Potatoes              4222.995410   \n",
            "\n",
            "   Water Requirement (mm)  Fertilizer N (kg/ha)  Fertilizer P (kg/ha)  \\\n",
            "0              308.916914              1.934702             10.510743   \n",
            "1              475.027691             29.122139            140.862379   \n",
            "2              660.679453             32.490584            148.160596   \n",
            "3              284.572608             88.293971             12.752931   \n",
            "4              341.704665            103.977850             52.357089   \n",
            "\n",
            "   Fertilizer K (kg/ha)  Input Costs (KES)  Market Price (KES/kg)  \\\n",
            "0             99.415093       11912.874264              91.076115   \n",
            "1             60.656798        6016.916905              73.967750   \n",
            "2             68.225205       15568.742716              59.958947   \n",
            "3             16.960646       32177.459743              89.341577   \n",
            "4             68.917405       10963.969446              25.845067   \n",
            "\n",
            "   Profit Estimation (KES) Risk Factors  \n",
            "0            665987.822802          Low  \n",
            "1            449057.951061          Low  \n",
            "2            420972.600121          Low  \n",
            "3            664663.539862         High  \n",
            "4             98179.629334         High  \n"
          ]
        }
      ],
      "source": [
        "import pandas as pd\n",
        "import numpy as np\n",
        "\n",
        "# Set random seed for reproducibility\n",
        "np.random.seed(42)\n",
        "\n",
        "# Number of rows\n",
        "num_rows = 100000\n",
        "\n",
        "# Generate random data for soil properties (Nitrogen, Phosphorus, Potassium, pH)\n",
        "nitrogen = np.random.uniform(0, 100, num_rows)\n",
        "phosphorus = np.random.uniform(0, 100, num_rows)\n",
        "potassium = np.random.uniform(0, 100, num_rows)\n",
        "pH = np.random.uniform(4.5, 8.5, num_rows)\n",
        "\n",
        "# Generate random weather data (Temperature, Humidity, Rainfall)\n",
        "temperature = np.random.uniform(10, 35, num_rows)  # in Celsius\n",
        "humidity = np.random.uniform(30, 90, num_rows)  # in %\n",
        "rainfall = np.random.uniform(0, 500, num_rows)  # in mm\n",
        "\n",
        "# Generate random crop types\n",
        "crops = ['Maize', 'Tomatoes', 'Beans', 'Cabbage', 'Potatoes', 'Wheat']\n",
        "crop_type = np.random.choice(crops, num_rows)\n",
        "\n",
        "# Generate random predicted yields (in kg/ha)\n",
        "predicted_yield = np.random.uniform(500, 8000, num_rows)\n",
        "\n",
        "# Generate random water requirements (in mm)\n",
        "water_requirement = np.random.uniform(200, 800, num_rows)\n",
        "\n",
        "# Generate random fertilizer requirements (NPK in kg/ha)\n",
        "fertilizer_N = np.random.uniform(0, 150, num_rows)\n",
        "fertilizer_P = np.random.uniform(0, 150, num_rows)\n",
        "fertilizer_K = np.random.uniform(0, 150, num_rows)\n",
        "\n",
        "# Generate random input costs (in KES)\n",
        "input_costs = np.random.uniform(500, 50000, num_rows)\n",
        "\n",
        "# Generate random market prices (in KES/kg)\n",
        "market_price = np.random.uniform(10, 100, num_rows)\n",
        "\n",
        "# Calculate estimated profit (predicted_yield * market_price - input_costs)\n",
        "profit_estimation = (predicted_yield * market_price) - input_costs\n",
        "\n",
        "# Generate random risk factors (1 = Low, 2 = Medium, 3 = High)\n",
        "risk_factors = np.random.choice(['Low', 'Medium', 'High'], num_rows)\n",
        "\n",
        "# Create the DataFrame\n",
        "data = {\n",
        "    'Nitrogen (N)': nitrogen,\n",
        "    'Phosphorus (P)': phosphorus,\n",
        "    'Potassium (K)': potassium,\n",
        "    'pH': pH,\n",
        "    'Temperature (C)': temperature,\n",
        "    'Humidity (%)': humidity,\n",
        "    'Rainfall (mm)': rainfall,\n",
        "    'Crop Type': crop_type,\n",
        "    'Predicted Yield (kg/ha)': predicted_yield,\n",
        "    'Water Requirement (mm)': water_requirement,\n",
        "    'Fertilizer N (kg/ha)': fertilizer_N,\n",
        "    'Fertilizer P (kg/ha)': fertilizer_P,\n",
        "    'Fertilizer K (kg/ha)': fertilizer_K,\n",
        "    'Input Costs (KES)': input_costs,\n",
        "    'Market Price (KES/kg)': market_price,\n",
        "    'Profit Estimation (KES)': profit_estimation,\n",
        "    'Risk Factors': risk_factors\n",
        "}\n",
        "\n",
        "# Convert to DataFrame\n",
        "df = pd.DataFrame(data)\n",
        "\n",
        "# Display the first 5 rows of the generated data\n",
        "print(df.head())\n",
        "\n",
        "# Save to CSV (optional)\n",
        "df.to_csv('synthetic_crop_data.csv', index=False)\n"
      ]
    },
    {
      "cell_type": "code",
      "source": [
        "\n",
        "\n",
        "# Download the file to your local machine from Colab\n",
        "from google.colab import files\n",
        "files.download('synthetic_crop_data.csv')"
      ],
      "metadata": {
        "colab": {
          "base_uri": "https://localhost:8080/",
          "height": 34
        },
        "id": "j1Dv6Krxhght",
        "outputId": "04559d9f-dd46-41c7-feec-d7bfb7e29ef7"
      },
      "execution_count": 3,
      "outputs": [
        {
          "output_type": "display_data",
          "data": {
            "text/plain": [
              "<IPython.core.display.Javascript object>"
            ],
            "application/javascript": [
              "\n",
              "    async function download(id, filename, size) {\n",
              "      if (!google.colab.kernel.accessAllowed) {\n",
              "        return;\n",
              "      }\n",
              "      const div = document.createElement('div');\n",
              "      const label = document.createElement('label');\n",
              "      label.textContent = `Downloading \"${filename}\": `;\n",
              "      div.appendChild(label);\n",
              "      const progress = document.createElement('progress');\n",
              "      progress.max = size;\n",
              "      div.appendChild(progress);\n",
              "      document.body.appendChild(div);\n",
              "\n",
              "      const buffers = [];\n",
              "      let downloaded = 0;\n",
              "\n",
              "      const channel = await google.colab.kernel.comms.open(id);\n",
              "      // Send a message to notify the kernel that we're ready.\n",
              "      channel.send({})\n",
              "\n",
              "      for await (const message of channel.messages) {\n",
              "        // Send a message to notify the kernel that we're ready.\n",
              "        channel.send({})\n",
              "        if (message.buffers) {\n",
              "          for (const buffer of message.buffers) {\n",
              "            buffers.push(buffer);\n",
              "            downloaded += buffer.byteLength;\n",
              "            progress.value = downloaded;\n",
              "          }\n",
              "        }\n",
              "      }\n",
              "      const blob = new Blob(buffers, {type: 'application/binary'});\n",
              "      const a = document.createElement('a');\n",
              "      a.href = window.URL.createObjectURL(blob);\n",
              "      a.download = filename;\n",
              "      div.appendChild(a);\n",
              "      a.click();\n",
              "      div.remove();\n",
              "    }\n",
              "  "
            ]
          },
          "metadata": {}
        },
        {
          "output_type": "display_data",
          "data": {
            "text/plain": [
              "<IPython.core.display.Javascript object>"
            ],
            "application/javascript": [
              "download(\"download_fab7826c-584c-47d1-81cd-3488ef2fb3cd\", \"synthetic_crop_data.csv\", 28682954)"
            ]
          },
          "metadata": {}
        }
      ]
    }
  ]
}